{
 "cells": [
  {
   "cell_type": "code",
   "execution_count": 6,
   "id": "a629bc36",
   "metadata": {},
   "outputs": [
    {
     "data": {
      "text/plain": [
       "1"
      ]
     },
     "execution_count": 6,
     "metadata": {},
     "output_type": "execute_result"
    }
   ],
   "source": [
    "# Q 1. which of the following operators is used to calculate remainder in a division?\n",
    "# C) % \n",
    "# example\n",
    "23%2\n",
    "# it will give remainder 1"
   ]
  },
  {
   "cell_type": "code",
   "execution_count": 8,
   "id": "cbee99aa",
   "metadata": {},
   "outputs": [],
   "source": [
    "# Q2 In python 2//3 is equal to ?\n",
    "# C) 0"
   ]
  },
  {
   "cell_type": "code",
   "execution_count": 11,
   "id": "cc6dd6eb",
   "metadata": {},
   "outputs": [],
   "source": [
    "# Q3 In Python , 6<<2 is equal to ?\n",
    "# C) 24"
   ]
  },
  {
   "cell_type": "code",
   "execution_count": 13,
   "id": "8a7d63ab",
   "metadata": {},
   "outputs": [],
   "source": [
    "# Q4 In Python , 6&2 will give which of the following as output?\n",
    "# A) 2"
   ]
  },
  {
   "cell_type": "code",
   "execution_count": 15,
   "id": "44be4c92",
   "metadata": {},
   "outputs": [],
   "source": [
    "# Q5 In python 6|2 will give which of the following as output?\n",
    "# D) 6"
   ]
  },
  {
   "cell_type": "code",
   "execution_count": null,
   "id": "eee53d41",
   "metadata": {},
   "outputs": [],
   "source": [
    "# Q6 What does the finally keyword denotes in python?\n",
    "# C) The finally block will always be executed, no matter if the try block raises an error or not"
   ]
  },
  {
   "cell_type": "code",
   "execution_count": null,
   "id": "ed0fdb89",
   "metadata": {},
   "outputs": [],
   "source": [
    "# Q7 What does raise keyword is used for in python?\n",
    "# A) It is used to raise an exception."
   ]
  },
  {
   "cell_type": "code",
   "execution_count": null,
   "id": "5422af32",
   "metadata": {},
   "outputs": [],
   "source": [
    "# Q8 Which of the following is a common use case of yield keyword in python?\n",
    "# C) in defining a generator"
   ]
  },
  {
   "cell_type": "code",
   "execution_count": null,
   "id": "e848d563",
   "metadata": {},
   "outputs": [],
   "source": [
    "# Q9 Which of the following are the valid variable names?\n",
    "# A) _abc C) abc2"
   ]
  },
  {
   "cell_type": "code",
   "execution_count": 21,
   "id": "b29e57dd",
   "metadata": {},
   "outputs": [],
   "source": [
    "# Q10. Which of the following are the keywords in python?\n",
    "# A) yield B) raise"
   ]
  },
  {
   "cell_type": "code",
   "execution_count": 24,
   "id": "5c036c9c",
   "metadata": {},
   "outputs": [
    {
     "name": "stdout",
     "output_type": "stream",
     "text": [
      "Enter the number:5\n",
      "The factorial of 5 is 24\n"
     ]
    }
   ],
   "source": [
    "# Q11. Write a python program to find the factorial of a number.\n",
    "# Python program to find the factorial of a number provided by the user.\n",
    "\n",
    "# Enter the number for which you want to find the factorial \n",
    "num = int(input(\"Enter the number:\"))\n",
    "\n",
    "factorial = 1\n",
    "\n",
    "# check if the number is negative, positive or zero\n",
    "if num < 0:\n",
    "   print(\"Sorry, factorial does not exist for negative numbers\")\n",
    "elif num == 0:\n",
    "   print(\"The factorial of 0 is 1\")\n",
    "else:\n",
    "   for i in range(1,num + 1 ):\n",
    "       factorial = factorial*i\n",
    "   print(\"The factorial of\",num,\"is\",factorial)"
   ]
  },
  {
   "cell_type": "code",
   "execution_count": 29,
   "id": "64e531fe",
   "metadata": {},
   "outputs": [
    {
     "name": "stdout",
     "output_type": "stream",
     "text": [
      "Enter any number : 0\n",
      "0 is a neither prime NOR composite number\n"
     ]
    }
   ],
   "source": [
    "# Q12. Write a python program to find whether a number is prime or composite.\n",
    "num = int(input(\"Enter any number : \"))\n",
    "if num > 1:\n",
    "    for i in range(2, num):\n",
    "        if (num % i) == 0:\n",
    "            print(num, \"is a composit number\")\n",
    "            break\n",
    "    else:\n",
    "        print(num, \"is a PRIME number\")\n",
    "elif num == 0 or 1:\n",
    "    print(num, \"is a neither prime NOR composite number\")\n",
    "else:\n",
    "    print(num, \"is NOT a prime number it is a COMPOSITE number\")\n"
   ]
  },
  {
   "cell_type": "code",
   "execution_count": 35,
   "id": "31e95ab4",
   "metadata": {},
   "outputs": [
    {
     "name": "stdout",
     "output_type": "stream",
     "text": [
      "Enter a string to check wheather it is a palindrome or not : tata\n",
      "The string is not a palindrome.\n"
     ]
    }
   ],
   "source": [
    "# Q13. Write a python program to check whether a given string is palindrome or not.\n",
    "\n",
    "my_str = input(\"Enter a string to check wheather it is a palindrome or not : \")\n",
    "\n",
    "# make it suitable for caseless comparison\n",
    "my_str = my_str.casefold()\n",
    "\n",
    "# reverse the string\n",
    "rev_str = reversed(my_str)\n",
    "\n",
    "# check if the string is equal to its reverse\n",
    "if list(my_str) == list(rev_str):\n",
    "   print(\"The string is a palindrome.\")\n",
    "else:\n",
    "   print(\"The string is not a palindrome.\")"
   ]
  },
  {
   "cell_type": "code",
   "execution_count": 52,
   "id": "091d13a7",
   "metadata": {},
   "outputs": [
    {
     "name": "stdout",
     "output_type": "stream",
     "text": [
      "Enter base: 3\n",
      "Enter height: 4\n",
      "Enter Hypotenuse:0\n",
      "Hypotenuse is : 5.0\n"
     ]
    }
   ],
   "source": [
    "# 14. Write a Python program to get the third side of right-angled triangle from two given sides.\n",
    "import math\n",
    "\n",
    "a = float(input(\"Enter base: \"))\n",
    "b = float(input(\"Enter height: \"))\n",
    "c = float(input(\"Enter Hypotenuse:\"))\n",
    "if (a and b !=0) and c==0:\n",
    "    c = math.sqrt(a ** 2 + b ** 2)\n",
    "    print(\"Hypotenuse is :\",c)\n",
    " \n",
    "    \n",
    "elif ((b and c) !=0) and a==0:\n",
    "    a = math.sqrt(c ** 2 - b ** 2)\n",
    "    print(\"Base is : \",a)\n",
    "    \n",
    "    \n",
    "elif ((c and a) !=0) and b==0:\n",
    "    b = math.sqrt(c ** 2 - b ** 2)\n",
    "    print(\"Height is :\",b)\n",
    "    \n",
    "    \n",
    "    \n",
    "\n",
    "\n",
    "\n"
   ]
  },
  {
   "cell_type": "code",
   "execution_count": 57,
   "id": "9197afeb",
   "metadata": {},
   "outputs": [
    {
     "name": "stdout",
     "output_type": "stream",
     "text": [
      "Enter the string :ram\n",
      "Count of all characters in string is :\n",
      " {'r': 1, 'a': 1, 'm': 1}\n"
     ]
    }
   ],
   "source": [
    "# 15. Write a python program to print the frequency of each of the characters present in a given string.\n",
    "test_str = input(\"Enter the string :\")\n",
    "all_freq = {}\n",
    "  \n",
    "for i in test_str:\n",
    "    if i in all_freq:\n",
    "        all_freq[i] += 1\n",
    "    else:\n",
    "        all_freq[i] = 1\n",
    "        \n",
    "print (\"Count of all characters in string is :\\n \" +  str(all_freq))"
   ]
  },
  {
   "cell_type": "code",
   "execution_count": null,
   "id": "201f7b6a",
   "metadata": {},
   "outputs": [],
   "source": []
  }
 ],
 "metadata": {
  "kernelspec": {
   "display_name": "Python 3 (ipykernel)",
   "language": "python",
   "name": "python3"
  },
  "language_info": {
   "codemirror_mode": {
    "name": "ipython",
    "version": 3
   },
   "file_extension": ".py",
   "mimetype": "text/x-python",
   "name": "python",
   "nbconvert_exporter": "python",
   "pygments_lexer": "ipython3",
   "version": "3.9.12"
  }
 },
 "nbformat": 4,
 "nbformat_minor": 5
}
